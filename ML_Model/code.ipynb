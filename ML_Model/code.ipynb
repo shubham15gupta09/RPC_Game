{
 "cells": [
  {
   "cell_type": "code",
   "execution_count": 0,
   "metadata": {
    "colab": {
     "base_uri": "https://localhost:8080/",
     "height": 34
    },
    "colab_type": "code",
    "id": "Aa2ionI1ediz",
    "outputId": "1a6a0366-a011-4321-ec27-91e201d90f9f"
   },
   "outputs": [
    {
     "name": "stdout",
     "output_type": "stream",
     "text": [
      "Drive already mounted at /content/drive; to attempt to forcibly remount, call drive.mount(\"/content/drive\", force_remount=True).\n"
     ]
    }
   ],
   "source": [
    "from google.colab import drive\n",
    "drive.mount('/content/drive')"
   ]
  },
  {
   "cell_type": "code",
   "execution_count": 0,
   "metadata": {
    "colab": {},
    "colab_type": "code",
    "id": "SxCRAyV4W0d0"
   },
   "outputs": [],
   "source": [
    "!pip install tensorflowjs\n",
    "!pip install -U ipython"
   ]
  },
  {
   "cell_type": "code",
   "execution_count": 0,
   "metadata": {
    "colab": {},
    "colab_type": "code",
    "id": "9YRBXcUVeWmZ"
   },
   "outputs": [],
   "source": [
    "import os\n",
    "from PIL import Image\n",
    "import numpy as np\n",
    "import keras_preprocessing\n",
    "from matplotlib import pyplot as plt\n",
    "from keras_preprocessing import image\n",
    "from keras_preprocessing.image import ImageDataGenerator\n",
    "\n",
    "from keras.models import Sequential\n",
    "from keras.layers import Conv2D\n",
    "from keras.layers import MaxPooling2D\n",
    "from keras.layers import Flatten\n",
    "from keras.layers import Dense\n",
    "from keras.layers import Activation\n",
    "from keras.layers import Dropout"
   ]
  },
  {
   "cell_type": "code",
   "execution_count": 0,
   "metadata": {
    "colab": {
     "base_uri": "https://localhost:8080/",
     "height": 69
    },
    "colab_type": "code",
    "id": "MrxdR83ANgjS",
    "outputId": "5ee685db-c229-42ef-a79e-8855cdfb5d86"
   },
   "outputs": [
    {
     "name": "stdout",
     "output_type": "stream",
     "text": [
      "No. of rock images: 124\n",
      "No. of paper images: 124\n",
      "No. of scissors images: 124\n"
     ]
    }
   ],
   "source": [
    "rock_dir = os.path.join('/content/drive/My Drive/fb_dev/model/dataset/train/rock')\n",
    "paper_dir = os.path.join('/content/drive/My Drive/fb_dev/model/dataset/train/paper')\n",
    "scissors_dir = os.path.join('/content/drive/My Drive/fb_dev/model/dataset/train/scissors')\n",
    "\n",
    "print('No. of rock images:', len(os.listdir(rock_dir)))\n",
    "print('No. of paper images:', len(os.listdir(paper_dir)))\n",
    "print('No. of scissors images:', len(os.listdir(scissors_dir)))"
   ]
  },
  {
   "cell_type": "code",
   "execution_count": 0,
   "metadata": {
    "colab": {},
    "colab_type": "code",
    "id": "LWTisYLQM1aM"
   },
   "outputs": [],
   "source": [
    "TRAINING_DIR = \"/content/drive/My Drive/fb_dev/model/dataset/train\"\n",
    "training_datagen = ImageDataGenerator(\n",
    "        rescale = 1./255,\n",
    "        rotation_range=40,\n",
    "        width_shift_range=0.2,\n",
    "        height_shift_range=0.2,\n",
    "        horizontal_flip=True,\n",
    "        fill_mode='nearest'\n",
    "        )\n",
    "VALIDATION_DIR = \"/content/drive/My Drive/fb_dev/model/dataset/test\"\n",
    "validation_datagen = ImageDataGenerator(\n",
    "        rescale = 1./255\n",
    "        )"
   ]
  },
  {
   "cell_type": "code",
   "execution_count": 0,
   "metadata": {
    "colab": {
     "base_uri": "https://localhost:8080/",
     "height": 52
    },
    "colab_type": "code",
    "id": "dphsgr7jeWnK",
    "outputId": "b15fa177-be58-49de-c7de-1243c64cb73b"
   },
   "outputs": [
    {
     "name": "stdout",
     "output_type": "stream",
     "text": [
      "Found 372 images belonging to 3 classes.\n",
      "Found 27 images belonging to 3 classes.\n"
     ]
    }
   ],
   "source": [
    "train_generator = training_datagen.flow_from_directory(\n",
    "    TRAINING_DIR,\n",
    "    target_size=(150,150),\n",
    "    class_mode='categorical'\n",
    ")\n",
    "validation_generator = validation_datagen.flow_from_directory(\n",
    "    VALIDATION_DIR,\n",
    "    target_size=(150,150),\n",
    "    class_mode='categorical'\n",
    ")"
   ]
  },
  {
   "cell_type": "code",
   "execution_count": 0,
   "metadata": {
    "colab": {
     "base_uri": "https://localhost:8080/",
     "height": 815
    },
    "colab_type": "code",
    "id": "4IzK2TeeeWnZ",
    "outputId": "10ac2681-4566-4fbe-c74c-7c7145e4874f"
   },
   "outputs": [
    {
     "name": "stdout",
     "output_type": "stream",
     "text": [
      "Model: \"sequential_5\"\n",
      "_________________________________________________________________\n",
      "Layer (type)                 Output Shape              Param #   \n",
      "=================================================================\n",
      "conv2d_16 (Conv2D)           (None, 148, 148, 64)      1792      \n",
      "_________________________________________________________________\n",
      "activation_24 (Activation)   (None, 148, 148, 64)      0         \n",
      "_________________________________________________________________\n",
      "max_pooling2d_16 (MaxPooling (None, 74, 74, 64)        0         \n",
      "_________________________________________________________________\n",
      "conv2d_17 (Conv2D)           (None, 72, 72, 64)        36928     \n",
      "_________________________________________________________________\n",
      "activation_25 (Activation)   (None, 72, 72, 64)        0         \n",
      "_________________________________________________________________\n",
      "max_pooling2d_17 (MaxPooling (None, 36, 36, 64)        0         \n",
      "_________________________________________________________________\n",
      "conv2d_18 (Conv2D)           (None, 34, 34, 64)        36928     \n",
      "_________________________________________________________________\n",
      "activation_26 (Activation)   (None, 34, 34, 64)        0         \n",
      "_________________________________________________________________\n",
      "max_pooling2d_18 (MaxPooling (None, 17, 17, 64)        0         \n",
      "_________________________________________________________________\n",
      "conv2d_19 (Conv2D)           (None, 15, 15, 64)        36928     \n",
      "_________________________________________________________________\n",
      "activation_27 (Activation)   (None, 15, 15, 64)        0         \n",
      "_________________________________________________________________\n",
      "max_pooling2d_19 (MaxPooling (None, 7, 7, 64)          0         \n",
      "_________________________________________________________________\n",
      "flatten_5 (Flatten)          (None, 3136)              0         \n",
      "_________________________________________________________________\n",
      "dropout_5 (Dropout)          (None, 3136)              0         \n",
      "_________________________________________________________________\n",
      "dense_9 (Dense)              (None, 32)                100384    \n",
      "_________________________________________________________________\n",
      "activation_28 (Activation)   (None, 32)                0         \n",
      "_________________________________________________________________\n",
      "dense_10 (Dense)             (None, 3)                 99        \n",
      "_________________________________________________________________\n",
      "activation_29 (Activation)   (None, 3)                 0         \n",
      "=================================================================\n",
      "Total params: 213,059\n",
      "Trainable params: 213,059\n",
      "Non-trainable params: 0\n",
      "_________________________________________________________________\n"
     ]
    },
    {
     "data": {
      "text/plain": [
       "\"\\nmodel = tf.keras.models.Sequential([\\n    tf.keras.layers.Conv2D(64, (3,3), activation='relu', input_shape=(150, 150, 3)),\\n    tf.keras.layers.MaxPooling2D(2, 2),\\n    tf.keras.layers.Conv2D(64, (3,3), activation='relu'),\\n    tf.keras.layers.MaxPooling2D(2,2),\\n    tf.keras.layers.Conv2D(64, (3,3), activation='relu'),\\n    tf.keras.layers.MaxPooling2D(2,2),\\n    tf.keras.layers.Conv2D(64, (3,3), activation='relu'),\\n    tf.keras.layers.MaxPooling2D(2,2),\\n    tf.keras.layers.Flatten(),\\n    tf.keras.layers.Dropout(0.5),\\n    tf.keras.layers.Dense(32, activation='relu'),\\n    tf.keras.layers.Dense(3, activation='softmax')\\n])\\n\""
      ]
     },
     "execution_count": 25,
     "metadata": {
      "tags": []
     },
     "output_type": "execute_result"
    }
   ],
   "source": [
    "model = Sequential()\n",
    "\n",
    "model.add(Conv2D(64,(3,3),input_shape=(150,150,3)))\n",
    "model.add(Activation('relu'))\n",
    "model.add(MaxPooling2D(pool_size =(2,2)))\n",
    "\n",
    "model.add(Conv2D(64,(3,3))) \n",
    "model.add(Activation('relu'))\n",
    "model.add(MaxPooling2D(pool_size =(2,2)))\n",
    "\n",
    "model.add(Conv2D(64,(3,3))) \n",
    "model.add(Activation('relu'))\n",
    "model.add(MaxPooling2D(pool_size =(2,2)))\n",
    "\n",
    "model.add(Conv2D(64,(3,3))) \n",
    "model.add(Activation('relu'))\n",
    "model.add(MaxPooling2D(pool_size =(2,2)))\n",
    "\n",
    "model.add(Flatten())\n",
    "model.add(Dropout(0.5))\n",
    "\n",
    "model.add(Dense(32))\n",
    "model.add(Activation('relu'))\n",
    "\n",
    "model.add(Dense(3))\n",
    "model.add(Activation('softmax'))\n",
    "\n",
    "model.summary()\n",
    "\n",
    "\"\"\"\n",
    "model = tf.keras.models.Sequential([\n",
    "    tf.keras.layers.Conv2D(64, (3,3), activation='relu', input_shape=(150, 150, 3)),\n",
    "    tf.keras.layers.MaxPooling2D(2, 2),\n",
    "    tf.keras.layers.Conv2D(64, (3,3), activation='relu'),\n",
    "    tf.keras.layers.MaxPooling2D(2,2),\n",
    "    tf.keras.layers.Conv2D(64, (3,3), activation='relu'),\n",
    "    tf.keras.layers.MaxPooling2D(2,2),\n",
    "    tf.keras.layers.Conv2D(64, (3,3), activation='relu'),\n",
    "    tf.keras.layers.MaxPooling2D(2,2),\n",
    "    tf.keras.layers.Flatten(),\n",
    "    tf.keras.layers.Dropout(0.5),\n",
    "    tf.keras.layers.Dense(32, activation='relu'),\n",
    "    tf.keras.layers.Dense(3, activation='softmax')\n",
    "])\n",
    "\"\"\""
   ]
  },
  {
   "cell_type": "code",
   "execution_count": 0,
   "metadata": {
    "colab": {},
    "colab_type": "code",
    "id": "jFOPqU5WeWnl"
   },
   "outputs": [],
   "source": [
    "model.compile(loss = 'categorical_crossentropy', optimizer='rmsprop', metrics=['accuracy'])"
   ]
  },
  {
   "cell_type": "code",
   "execution_count": 0,
   "metadata": {
    "colab": {
     "base_uri": "https://localhost:8080/",
     "height": 881
    },
    "colab_type": "code",
    "id": "5ABNf0iEeWny",
    "outputId": "bda29339-ce88-4aa7-9bc3-bb7e606bd049"
   },
   "outputs": [
    {
     "name": "stdout",
     "output_type": "stream",
     "text": [
      "Epoch 1/25\n",
      "12/12 [==============================] - 21s 2s/step - loss: 1.1251 - accuracy: 0.3387 - val_loss: 1.0985 - val_accuracy: 0.3333\n",
      "Epoch 2/25\n",
      "12/12 [==============================] - 19s 2s/step - loss: 1.1035 - accuracy: 0.3011 - val_loss: 1.0988 - val_accuracy: 0.3333\n",
      "Epoch 3/25\n",
      "12/12 [==============================] - 19s 2s/step - loss: 1.1008 - accuracy: 0.3091 - val_loss: 1.0961 - val_accuracy: 0.3333\n",
      "Epoch 4/25\n",
      "12/12 [==============================] - 18s 2s/step - loss: 1.0992 - accuracy: 0.3548 - val_loss: 1.0922 - val_accuracy: 0.5185\n",
      "Epoch 5/25\n",
      "12/12 [==============================] - 19s 2s/step - loss: 1.0941 - accuracy: 0.4274 - val_loss: 1.0077 - val_accuracy: 0.4444\n",
      "Epoch 6/25\n",
      "12/12 [==============================] - 18s 1s/step - loss: 1.0795 - accuracy: 0.4328 - val_loss: 0.9291 - val_accuracy: 0.6296\n",
      "Epoch 7/25\n",
      "12/12 [==============================] - 18s 1s/step - loss: 0.9650 - accuracy: 0.5161 - val_loss: 1.0694 - val_accuracy: 0.5185\n",
      "Epoch 8/25\n",
      "12/12 [==============================] - 18s 1s/step - loss: 0.9010 - accuracy: 0.5726 - val_loss: 0.7385 - val_accuracy: 0.5556\n",
      "Epoch 9/25\n",
      "12/12 [==============================] - 17s 1s/step - loss: 0.8303 - accuracy: 0.6102 - val_loss: 0.5564 - val_accuracy: 0.7037\n",
      "Epoch 10/25\n",
      "12/12 [==============================] - 17s 1s/step - loss: 0.8200 - accuracy: 0.6183 - val_loss: 1.0064 - val_accuracy: 0.5185\n",
      "Epoch 11/25\n",
      "12/12 [==============================] - 17s 1s/step - loss: 0.7832 - accuracy: 0.6263 - val_loss: 1.0984 - val_accuracy: 0.5556\n",
      "Epoch 12/25\n",
      "12/12 [==============================] - 17s 1s/step - loss: 0.7106 - accuracy: 0.6909 - val_loss: 0.4554 - val_accuracy: 0.8519\n",
      "Epoch 13/25\n",
      "12/12 [==============================] - 17s 1s/step - loss: 0.6774 - accuracy: 0.7312 - val_loss: 0.5183 - val_accuracy: 0.8148\n",
      "Epoch 14/25\n",
      "12/12 [==============================] - 17s 1s/step - loss: 0.5957 - accuracy: 0.7554 - val_loss: 0.5157 - val_accuracy: 0.7778\n",
      "Epoch 15/25\n",
      "12/12 [==============================] - 17s 1s/step - loss: 0.6061 - accuracy: 0.7419 - val_loss: 0.4899 - val_accuracy: 0.7778\n",
      "Epoch 16/25\n",
      "12/12 [==============================] - 17s 1s/step - loss: 0.5043 - accuracy: 0.7957 - val_loss: 0.6525 - val_accuracy: 0.7778\n",
      "Epoch 17/25\n",
      "12/12 [==============================] - 17s 1s/step - loss: 0.4799 - accuracy: 0.8280 - val_loss: 0.6406 - val_accuracy: 0.8148\n",
      "Epoch 18/25\n",
      "12/12 [==============================] - 17s 1s/step - loss: 0.4739 - accuracy: 0.8253 - val_loss: 0.5659 - val_accuracy: 0.8148\n",
      "Epoch 19/25\n",
      "12/12 [==============================] - 17s 1s/step - loss: 0.3969 - accuracy: 0.8602 - val_loss: 0.7236 - val_accuracy: 0.8148\n",
      "Epoch 20/25\n",
      "12/12 [==============================] - 16s 1s/step - loss: 0.3885 - accuracy: 0.8306 - val_loss: 0.3554 - val_accuracy: 0.8889\n",
      "Epoch 21/25\n",
      "12/12 [==============================] - 16s 1s/step - loss: 0.3580 - accuracy: 0.8495 - val_loss: 0.5310 - val_accuracy: 0.8148\n",
      "Epoch 22/25\n",
      "12/12 [==============================] - 17s 1s/step - loss: 0.2697 - accuracy: 0.8952 - val_loss: 0.5569 - val_accuracy: 0.8519\n",
      "Epoch 23/25\n",
      "12/12 [==============================] - 16s 1s/step - loss: 0.3957 - accuracy: 0.8683 - val_loss: 0.5000 - val_accuracy: 0.8148\n",
      "Epoch 24/25\n",
      "12/12 [==============================] - 17s 1s/step - loss: 0.2328 - accuracy: 0.9167 - val_loss: 0.2257 - val_accuracy: 0.9259\n",
      "Epoch 25/25\n",
      "12/12 [==============================] - 16s 1s/step - loss: 0.2777 - accuracy: 0.8871 - val_loss: 0.2618 - val_accuracy: 0.9259\n"
     ]
    }
   ],
   "source": [
    "history = model.fit(train_generator, epochs=25, validation_data = validation_generator, verbose = 1)"
   ]
  },
  {
   "cell_type": "code",
   "execution_count": 0,
   "metadata": {
    "colab": {},
    "colab_type": "code",
    "id": "WaKe5YdrVN0H"
   },
   "outputs": [],
   "source": [
    "saved_model_path = \"./my_model.h5\"\n",
    "model.save(saved_model_path)\n",
    "!tensorflowjs_converter --input_format=keras {saved_model_path} ./"
   ]
  },
  {
   "cell_type": "code",
   "execution_count": 0,
   "metadata": {
    "colab": {
     "base_uri": "https://localhost:8080/",
     "height": 295
    },
    "colab_type": "code",
    "id": "k6jC_oFHapIb",
    "outputId": "5f74e7b3-aefd-49e8-bd52-14205d842f74"
   },
   "outputs": [
    {
     "data": {
      "image/png": "[encoded data removed]",
      "text/plain": [
       "<Figure size 432x288 with 1 Axes>"
      ]
     },
     "metadata": {
      "needs_background": "light",
      "tags": []
     },
     "output_type": "display_data"
    }
   ],
   "source": [
    "plt.plot(history.history['accuracy'])\n",
    "plt.plot(history.history['val_accuracy'])\n",
    "plt.title('model accuracy')\n",
    "plt.ylabel('accuracy')\n",
    "plt.xlabel('epoch')\n",
    "plt.legend(['train', 'val'], loc='upper left')\n",
    "plt.show()"
   ]
  },
  {
   "cell_type": "code",
   "execution_count": 0,
   "metadata": {
    "colab": {
     "base_uri": "https://localhost:8080/",
     "height": 295
    },
    "colab_type": "code",
    "id": "ZtumOkBparso",
    "outputId": "d4efb437-df02-41d5-85b3-b1c699aa8567"
   },
   "outputs": [
    {
     "data": {
      "image/png": "[encoded data removed]",
      "text/plain": [
       "<Figure size 432x288 with 1 Axes>"
      ]
     },
     "metadata": {
      "needs_background": "light",
      "tags": []
     },
     "output_type": "display_data"
    }
   ],
   "source": [
    "plt.plot(history.history['loss'])\n",
    "plt.plot(history.history['val_loss'])\n",
    "plt.title('model loss')\n",
    "plt.ylabel('loss')\n",
    "plt.xlabel('epoch')\n",
    "plt.legend(['train', 'val'], loc='upper left')\n",
    "plt.show()"
   ]
  },
  {
   "cell_type": "code",
   "execution_count": 0,
   "metadata": {
    "colab": {},
    "colab_type": "code",
    "id": "8--Z1bona6-7"
   },
   "outputs": [],
   "source": []
  }
 ],
 "metadata": {
  "accelerator": "GPU",
  "colab": {
   "collapsed_sections": [],
   "name": "Copy_of_rock_paper_scissors.ipynb",
   "provenance": []
  },
  "kernelspec": {
   "display_name": "Python 3",
   "language": "python",
   "name": "python3"
  },
  "language_info": {
   "codemirror_mode": {
    "name": "ipython",
    "version": 3
   },
   "file_extension": ".py",
   "mimetype": "text/x-python",
   "name": "python",
   "nbconvert_exporter": "python",
   "pygments_lexer": "ipython3",
   "version": "3.7.6"
  }
 },
 "nbformat": 4,
 "nbformat_minor": 1
}
